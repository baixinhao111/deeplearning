{
 "cells": [
  {
   "cell_type": "markdown",
   "metadata": {},
   "source": [
    "# 6.4 ResNet"
   ]
  },
  {
   "cell_type": "markdown",
   "metadata": {},
   "source": [
    "### 导入utils中的DataLoader"
   ]
  },
  {
   "cell_type": "code",
   "execution_count": 1,
   "metadata": {},
   "outputs": [],
   "source": [
    "from utils import *"
   ]
  },
  {
   "cell_type": "code",
   "execution_count": 2,
   "metadata": {},
   "outputs": [],
   "source": [
    "train_loader,val_loader = get_cifar10()"
   ]
  },
  {
   "cell_type": "code",
   "execution_count": 3,
   "metadata": {},
   "outputs": [],
   "source": [
    "class BasicBlock(nn.Module):\n",
    "    def __init__(self, in_planes, planes, stride=1):\n",
    "        '''\n",
    "        构建一个resnet的残差学习模块\n",
    "        Input:\n",
    "        in_planes -- 输入的通道数\n",
    "        planes -- 输出的通道数\n",
    "        stride -- 调节卷积中的stride参数，用于保证tensor的维度匹配\n",
    "        \n",
    "        Output:\n",
    "        model        \n",
    "        '''\n",
    "        super(BasicBlock, self).__init__()\n",
    "        # (1) Conv2D(3×3，planes),same, 【stride(1)或stride(2)】 BN\n",
    "        # (2) Conv2D(3×3，planes),same, BN\n",
    "        self.conv1 = nn.Conv2d(\n",
    "            in_planes, planes, kernel_size=3, stride=stride, padding=1, bias=False)\n",
    "        \n",
    "        self.bn1 = nn.BatchNorm2d(planes)\n",
    "        self.conv2 = nn.Conv2d(planes, planes, kernel_size=3,\n",
    "                               stride=1, padding=1, bias=False)\n",
    "        self.bn2 = nn.BatchNorm2d(planes)\n",
    "\n",
    "        # 当stride为2时，需要增加一个1*1卷积实现维度匹配\n",
    "        self.shortcut = nn.Sequential()\n",
    "        if stride != 1:\n",
    "            self.shortcut = nn.Sequential(\n",
    "                nn.Conv2d(in_planes, planes,\n",
    "                          kernel_size=1, stride=stride, bias=False),\n",
    "                nn.BatchNorm2d(planes)\n",
    "            )\n",
    "\n",
    "    def forward(self, x):\n",
    "        out = F.relu(self.bn1(self.conv1(x)))\n",
    "        out = self.bn2(self.conv2(out))\n",
    "        out += self.shortcut(x)\n",
    "        out = F.relu(out)\n",
    "        return out"
   ]
  },
  {
   "cell_type": "code",
   "execution_count": 4,
   "metadata": {},
   "outputs": [],
   "source": [
    "class ResNet(nn.Module):\n",
    "    def __init__(self, block, num_blocks, num_classes=10):\n",
    "        super(ResNet, self).__init__()\n",
    "        self.in_planes = 64\n",
    "\n",
    "        self.previous = nn.Sequential(nn.Conv2d(3, 64, kernel_size=3,\n",
    "                               stride=1, padding=1, bias=False),nn.BatchNorm2d(64), nn.ReLU(True))\n",
    "        \n",
    "        self.layer1 = self._make_layer(block, 64, num_blocks[0], stride=1)\n",
    "        self.layer2 = self._make_layer(block, 128, num_blocks[1], stride=2)\n",
    "        self.layer3 = self._make_layer(block, 256, num_blocks[2], stride=2)\n",
    "        self.layer4 = self._make_layer(block, 512, num_blocks[3], stride=2)\n",
    "        self.linear = nn.Linear(512, num_classes)\n",
    "        \n",
    "    def _make_layer(self, block, planes, num_blocks, stride):\n",
    "        '''\n",
    "        此block被循环了多少次\n",
    "        '''\n",
    "        strides = [stride] + [1]*(num_blocks - 1) #除了第一个stride可能为2，其余均为1\n",
    "        layers = []\n",
    "        for stride in strides:\n",
    "            layers.append(block(self.in_planes, planes, stride))\n",
    "            self.in_planes = planes \n",
    "        return nn.Sequential(*layers) #将layer中的元素顺序取出，作为Sequential的值\n",
    "\n",
    "\n",
    "    def forward(self, x):\n",
    "        out = self.previous(x)\n",
    "        out = self.layer1(out)\n",
    "        out = self.layer2(out)\n",
    "        out = self.layer3(out)\n",
    "        out = self.layer4(out)\n",
    "        out = F.avg_pool2d(out, 4)\n",
    "        out = out.view(out.size(0), -1)\n",
    "        out = self.linear(out)\n",
    "        return out\n",
    "\n",
    "def ResNet34():\n",
    "    return ResNet(BasicBlock, [3, 4, 6, 3])"
   ]
  },
  {
   "cell_type": "code",
   "execution_count": 5,
   "metadata": {},
   "outputs": [
    {
     "name": "stdout",
     "output_type": "stream",
     "text": [
      "torch.Size([1, 10])\n"
     ]
    }
   ],
   "source": [
    "## 验证模型是否搭建正确\n",
    "net = ResNet34()\n",
    "y = net(torch.randn(1, 3, 32, 32))\n",
    "print(y.size())"
   ]
  },
  {
   "cell_type": "markdown",
   "metadata": {},
   "source": [
    "借助PyTorch内置的nn.Sequential类构建模型。"
   ]
  },
  {
   "cell_type": "code",
   "execution_count": 6,
   "metadata": {
    "scrolled": true
   },
   "outputs": [
    {
     "name": "stdout",
     "output_type": "stream",
     "text": [
      "----------------------------------------------------------------\n",
      "        Layer (type)               Output Shape         Param #\n",
      "================================================================\n",
      "            Conv2d-1           [-1, 64, 32, 32]           1,728\n",
      "       BatchNorm2d-2           [-1, 64, 32, 32]             128\n",
      "              ReLU-3           [-1, 64, 32, 32]               0\n",
      "            Conv2d-4           [-1, 64, 32, 32]          36,864\n",
      "       BatchNorm2d-5           [-1, 64, 32, 32]             128\n",
      "            Conv2d-6           [-1, 64, 32, 32]          36,864\n",
      "       BatchNorm2d-7           [-1, 64, 32, 32]             128\n",
      "        BasicBlock-8           [-1, 64, 32, 32]               0\n",
      "            Conv2d-9           [-1, 64, 32, 32]          36,864\n",
      "      BatchNorm2d-10           [-1, 64, 32, 32]             128\n",
      "           Conv2d-11           [-1, 64, 32, 32]          36,864\n",
      "      BatchNorm2d-12           [-1, 64, 32, 32]             128\n",
      "       BasicBlock-13           [-1, 64, 32, 32]               0\n",
      "           Conv2d-14           [-1, 64, 32, 32]          36,864\n",
      "      BatchNorm2d-15           [-1, 64, 32, 32]             128\n",
      "           Conv2d-16           [-1, 64, 32, 32]          36,864\n",
      "      BatchNorm2d-17           [-1, 64, 32, 32]             128\n",
      "       BasicBlock-18           [-1, 64, 32, 32]               0\n",
      "           Conv2d-19          [-1, 128, 16, 16]          73,728\n",
      "      BatchNorm2d-20          [-1, 128, 16, 16]             256\n",
      "           Conv2d-21          [-1, 128, 16, 16]         147,456\n",
      "      BatchNorm2d-22          [-1, 128, 16, 16]             256\n",
      "           Conv2d-23          [-1, 128, 16, 16]           8,192\n",
      "      BatchNorm2d-24          [-1, 128, 16, 16]             256\n",
      "       BasicBlock-25          [-1, 128, 16, 16]               0\n",
      "           Conv2d-26          [-1, 128, 16, 16]         147,456\n",
      "      BatchNorm2d-27          [-1, 128, 16, 16]             256\n",
      "           Conv2d-28          [-1, 128, 16, 16]         147,456\n",
      "      BatchNorm2d-29          [-1, 128, 16, 16]             256\n",
      "       BasicBlock-30          [-1, 128, 16, 16]               0\n",
      "           Conv2d-31          [-1, 128, 16, 16]         147,456\n",
      "      BatchNorm2d-32          [-1, 128, 16, 16]             256\n",
      "           Conv2d-33          [-1, 128, 16, 16]         147,456\n",
      "      BatchNorm2d-34          [-1, 128, 16, 16]             256\n",
      "       BasicBlock-35          [-1, 128, 16, 16]               0\n",
      "           Conv2d-36          [-1, 128, 16, 16]         147,456\n",
      "      BatchNorm2d-37          [-1, 128, 16, 16]             256\n",
      "           Conv2d-38          [-1, 128, 16, 16]         147,456\n",
      "      BatchNorm2d-39          [-1, 128, 16, 16]             256\n",
      "       BasicBlock-40          [-1, 128, 16, 16]               0\n",
      "           Conv2d-41            [-1, 256, 8, 8]         294,912\n",
      "      BatchNorm2d-42            [-1, 256, 8, 8]             512\n",
      "           Conv2d-43            [-1, 256, 8, 8]         589,824\n",
      "      BatchNorm2d-44            [-1, 256, 8, 8]             512\n",
      "           Conv2d-45            [-1, 256, 8, 8]          32,768\n",
      "      BatchNorm2d-46            [-1, 256, 8, 8]             512\n",
      "       BasicBlock-47            [-1, 256, 8, 8]               0\n",
      "           Conv2d-48            [-1, 256, 8, 8]         589,824\n",
      "      BatchNorm2d-49            [-1, 256, 8, 8]             512\n",
      "           Conv2d-50            [-1, 256, 8, 8]         589,824\n",
      "      BatchNorm2d-51            [-1, 256, 8, 8]             512\n",
      "       BasicBlock-52            [-1, 256, 8, 8]               0\n",
      "           Conv2d-53            [-1, 256, 8, 8]         589,824\n",
      "      BatchNorm2d-54            [-1, 256, 8, 8]             512\n",
      "           Conv2d-55            [-1, 256, 8, 8]         589,824\n",
      "      BatchNorm2d-56            [-1, 256, 8, 8]             512\n",
      "       BasicBlock-57            [-1, 256, 8, 8]               0\n",
      "           Conv2d-58            [-1, 256, 8, 8]         589,824\n",
      "      BatchNorm2d-59            [-1, 256, 8, 8]             512\n",
      "           Conv2d-60            [-1, 256, 8, 8]         589,824\n",
      "      BatchNorm2d-61            [-1, 256, 8, 8]             512\n",
      "       BasicBlock-62            [-1, 256, 8, 8]               0\n",
      "           Conv2d-63            [-1, 256, 8, 8]         589,824\n",
      "      BatchNorm2d-64            [-1, 256, 8, 8]             512\n",
      "           Conv2d-65            [-1, 256, 8, 8]         589,824\n",
      "      BatchNorm2d-66            [-1, 256, 8, 8]             512\n",
      "       BasicBlock-67            [-1, 256, 8, 8]               0\n",
      "           Conv2d-68            [-1, 256, 8, 8]         589,824\n",
      "      BatchNorm2d-69            [-1, 256, 8, 8]             512\n",
      "           Conv2d-70            [-1, 256, 8, 8]         589,824\n",
      "      BatchNorm2d-71            [-1, 256, 8, 8]             512\n",
      "       BasicBlock-72            [-1, 256, 8, 8]               0\n",
      "           Conv2d-73            [-1, 512, 4, 4]       1,179,648\n",
      "      BatchNorm2d-74            [-1, 512, 4, 4]           1,024\n",
      "           Conv2d-75            [-1, 512, 4, 4]       2,359,296\n",
      "      BatchNorm2d-76            [-1, 512, 4, 4]           1,024\n",
      "           Conv2d-77            [-1, 512, 4, 4]         131,072\n",
      "      BatchNorm2d-78            [-1, 512, 4, 4]           1,024\n",
      "       BasicBlock-79            [-1, 512, 4, 4]               0\n",
      "           Conv2d-80            [-1, 512, 4, 4]       2,359,296\n",
      "      BatchNorm2d-81            [-1, 512, 4, 4]           1,024\n",
      "           Conv2d-82            [-1, 512, 4, 4]       2,359,296\n",
      "      BatchNorm2d-83            [-1, 512, 4, 4]           1,024\n",
      "       BasicBlock-84            [-1, 512, 4, 4]               0\n",
      "           Conv2d-85            [-1, 512, 4, 4]       2,359,296\n",
      "      BatchNorm2d-86            [-1, 512, 4, 4]           1,024\n",
      "           Conv2d-87            [-1, 512, 4, 4]       2,359,296\n",
      "      BatchNorm2d-88            [-1, 512, 4, 4]           1,024\n",
      "       BasicBlock-89            [-1, 512, 4, 4]               0\n",
      "           Linear-90                   [-1, 10]           5,130\n",
      "================================================================\n",
      "Total params: 21,282,122\n",
      "Trainable params: 21,282,122\n",
      "Non-trainable params: 0\n",
      "----------------------------------------------------------------\n",
      "Input size (MB): 0.01\n",
      "Forward/backward pass size (MB): 19.56\n",
      "Params size (MB): 81.18\n",
      "Estimated Total Size (MB): 100.76\n",
      "----------------------------------------------------------------\n"
     ]
    }
   ],
   "source": [
    "from torchsummary import summary\n",
    "## 需要预先下载，在终端输入 pip install torchsummary\n",
    "IMSIZE = 32\n",
    "resnet34_model = ResNet34().cuda()\n",
    "summary(resnet34_model, (3, IMSIZE, IMSIZE))"
   ]
  },
  {
   "cell_type": "markdown",
   "metadata": {},
   "source": [
    "## 模型训练"
   ]
  },
  {
   "cell_type": "markdown",
   "metadata": {},
   "source": [
    "先定义几个训练中会用到的函数。"
   ]
  },
  {
   "cell_type": "markdown",
   "metadata": {},
   "source": [
    "输入参数epochs和lr，实施训练。"
   ]
  },
  {
   "cell_type": "code",
   "execution_count": 7,
   "metadata": {},
   "outputs": [
    {
     "name": "stdout",
     "output_type": "stream",
     "text": [
      "Epoch [1/10], time: 77.62s, loss: 1.2813, acc: 0.5367, val_loss: 0.9958, val_acc: 0.6468\n",
      "Epoch [2/10], time: 75.08s, loss: 0.9352, acc: 0.6721, val_loss: 0.8717, val_acc: 0.6906\n",
      "Epoch [3/10], time: 75.21s, loss: 0.6811, acc: 0.7629, val_loss: 0.6704, val_acc: 0.7673\n",
      "Epoch [4/10], time: 75.24s, loss: 0.5330, acc: 0.8161, val_loss: 0.6017, val_acc: 0.7976\n",
      "Epoch [5/10], time: 75.07s, loss: 0.4024, acc: 0.8604, val_loss: 0.6257, val_acc: 0.7874\n",
      "Epoch [6/10], time: 75.25s, loss: 0.2909, acc: 0.8992, val_loss: 0.6172, val_acc: 0.8050\n",
      "Epoch [7/10], time: 75.23s, loss: 0.2008, acc: 0.9306, val_loss: 0.6033, val_acc: 0.8186\n",
      "Epoch [8/10], time: 75.39s, loss: 0.1390, acc: 0.9516, val_loss: 0.6879, val_acc: 0.8069\n",
      "Epoch [9/10], time: 75.50s, loss: 0.1059, acc: 0.9638, val_loss: 0.7428, val_acc: 0.8093\n",
      "Epoch [10/10], time: 75.23s, loss: 0.0849, acc: 0.9711, val_loss: 0.7799, val_acc: 0.8172\n"
     ]
    }
   ],
   "source": [
    "lr = 1e-4\n",
    "optimizer = torch.optim.Adam(resnet34_model.parameters(), lr=lr)  # 设置优化器\n",
    "epochs = 10\n",
    "history = train(resnet34_model, optimizer, train_loader, val_loader, epochs=epochs)  # 实施训练"
   ]
  },
  {
   "cell_type": "markdown",
   "metadata": {},
   "source": [
    "## 模型预测"
   ]
  },
  {
   "cell_type": "markdown",
   "metadata": {},
   "source": [
    "从训练集中选取几张图片，使用模型做出预测，观察结果。"
   ]
  },
  {
   "cell_type": "code",
   "execution_count": 8,
   "metadata": {},
   "outputs": [],
   "source": [
    "testiter = iter(val_loader)"
   ]
  },
  {
   "cell_type": "markdown",
   "metadata": {},
   "source": [
    "每次对迭代器testiter执行next，就会取出其下一个元素。因此，多次运行以下代码块，即可测试不同的图片。"
   ]
  },
  {
   "cell_type": "code",
   "execution_count": 9,
   "metadata": {},
   "outputs": [
    {
     "data": {
      "image/png": "[encoded data removed]",
      "text/plain": [
       "<Figure size 432x288 with 1 Axes>"
      ]
     },
     "metadata": {
      "needs_background": "light"
     },
     "output_type": "display_data"
    },
    {
     "name": "stdout",
     "output_type": "stream",
     "text": [
      "Prediction: cat\n"
     ]
    }
   ],
   "source": [
    "from matplotlib import pyplot as plt\n",
    "image = next(testiter)[0][0]\n",
    "plt.axis('off')\n",
    "plt.imshow(image.permute((1, 2, 0)))\n",
    "plt.show()\n",
    "\n",
    "pred = predict(resnet34_model, image.unsqueeze(dim=0))  # 由于模型接受的输入shape为4维（第1维为batch_size），因此需要使用unsqueeze函数在图片前面加一维\n",
    "val_set = torchvision.datasets.CIFAR10(root='../dataset',train=False)\n",
    "print('Prediction:', val_set.classes[pred])"
   ]
  },
  {
   "cell_type": "code",
   "execution_count": null,
   "metadata": {},
   "outputs": [],
   "source": []
  }
 ],
 "metadata": {
  "kernelspec": {
   "display_name": "Python 3",
   "language": "python",
   "name": "python3"
  },
  "language_info": {
   "codemirror_mode": {
    "name": "ipython",
    "version": 3
   },
   "file_extension": ".py",
   "mimetype": "text/x-python",
   "name": "python",
   "nbconvert_exporter": "python",
   "pygments_lexer": "ipython3",
   "version": "3.6.9"
  }
 },
 "nbformat": 4,
 "nbformat_minor": 4
}
