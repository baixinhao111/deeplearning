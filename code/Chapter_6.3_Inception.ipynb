{
 "cells": [
  {
   "cell_type": "markdown",
   "metadata": {},
   "source": [
    "# 6.3 InceptionV1"
   ]
  },
  {
   "cell_type": "markdown",
   "metadata": {},
   "source": [
    "### 导入utils中的DataLoader"
   ]
  },
  {
   "cell_type": "code",
   "execution_count": 1,
   "metadata": {},
   "outputs": [],
   "source": [
    "from utils import *"
   ]
  },
  {
   "cell_type": "code",
   "execution_count": 2,
   "metadata": {},
   "outputs": [],
   "source": [
    "class Inception_cell(nn.Module):\n",
    "    def __init__(self, in_channel, n1x1, n3x3red, n3x3, n5x5red, n5x5, pool_planes):\n",
    "        super(Inception_cell, self).__init__()\n",
    "        # 1x1 conv branch\n",
    "        self.b1 = nn.Sequential(\n",
    "            nn.Conv2d(in_channel, n1x1, kernel_size=1),\n",
    "            nn.BatchNorm2d(n1x1),\n",
    "            nn.ReLU(True),\n",
    "        )\n",
    "\n",
    "        # 1x1 conv -> 3x3 conv branch\n",
    "        self.b2 = nn.Sequential(\n",
    "            nn.Conv2d(in_channel, n3x3red, kernel_size=1),\n",
    "            nn.BatchNorm2d(n3x3red),\n",
    "            nn.ReLU(True),\n",
    "            nn.Conv2d(n3x3red, n3x3, kernel_size=3, padding=1),\n",
    "            nn.BatchNorm2d(n3x3),\n",
    "            nn.ReLU(True),\n",
    "        )\n",
    "\n",
    "        # 1x1 conv -> 5x5 conv branch\n",
    "        self.b3 = nn.Sequential(\n",
    "            nn.Conv2d(in_channel, n5x5red, kernel_size=1),\n",
    "            nn.BatchNorm2d(n5x5red),\n",
    "            nn.ReLU(True),\n",
    "            nn.Conv2d(n5x5red, n5x5, kernel_size=3, padding=1),\n",
    "            nn.BatchNorm2d(n5x5),\n",
    "            nn.ReLU(True),\n",
    "            nn.Conv2d(n5x5, n5x5, kernel_size=3, padding=1),\n",
    "            nn.BatchNorm2d(n5x5),\n",
    "            nn.ReLU(True),\n",
    "        )\n",
    "\n",
    "        # 3x3 pool -> 1x1 conv branch\n",
    "        self.b4 = nn.Sequential(\n",
    "            nn.MaxPool2d(3, stride=1, padding=1),\n",
    "            nn.Conv2d(in_channel, pool_planes, kernel_size=1),\n",
    "            nn.BatchNorm2d(pool_planes),\n",
    "            nn.ReLU(True),\n",
    "        )\n",
    "\n",
    "    def forward(self, x):\n",
    "        y1 = self.b1(x)\n",
    "        y2 = self.b2(x)\n",
    "        y3 = self.b3(x)\n",
    "        y4 = self.b4(x)\n",
    "        return torch.cat([y1,y2,y3,y4], 1) ## 将四个分支并联起来"
   ]
  },
  {
   "cell_type": "code",
   "execution_count": 3,
   "metadata": {},
   "outputs": [],
   "source": [
    "class GoogLeNet(nn.Module):\n",
    "    def __init__(self):\n",
    "        super(GoogLeNet, self).__init__()\n",
    "        self.pre_layers = nn.Sequential(\n",
    "            nn.Conv2d(3, 192, kernel_size=3, padding=1),\n",
    "            nn.BatchNorm2d(192),\n",
    "            nn.ReLU(True),\n",
    "        )\n",
    "        \n",
    "        self.a3 = Inception_cell(192,  64,  96, 128, 16, 32, 32)\n",
    "        self.b3 = Inception_cell(256, 128, 128, 192, 32, 96, 64)\n",
    "\n",
    "        self.maxpool = nn.MaxPool2d(3, stride=2, padding=1)\n",
    "\n",
    "        self.a4 = Inception_cell(480, 192,  96, 208, 16,  48,  64)\n",
    "        self.b4 = Inception_cell(512, 160, 112, 224, 24,  64,  64)\n",
    "        self.c4 = Inception_cell(512, 128, 128, 256, 24,  64,  64)\n",
    "        self.d4 = Inception_cell(512, 112, 144, 288, 32,  64,  64)\n",
    "        self.e4 = Inception_cell(528, 256, 160, 320, 32, 128, 128)\n",
    "\n",
    "        self.a5 = Inception_cell(832, 256, 160, 320, 32, 128, 128)\n",
    "        self.b5 = Inception_cell(832, 384, 192, 384, 48, 128, 128)\n",
    "\n",
    "        self.avgpool = nn.AvgPool2d(8, stride=1)\n",
    "        self.linear = nn.Linear(1024, 10)\n",
    "\n",
    "    def forward(self, x):\n",
    "        out = self.pre_layers(x)\n",
    "        out = self.a3(out)\n",
    "        out = self.b3(out)\n",
    "        out = self.maxpool(out)\n",
    "        out = self.a4(out)\n",
    "        out = self.b4(out)\n",
    "        out = self.c4(out)\n",
    "        out = self.d4(out)\n",
    "        out = self.e4(out)\n",
    "        out = self.maxpool(out)\n",
    "        out = self.a5(out)\n",
    "        out = self.b5(out)\n",
    "        out = self.avgpool(out)\n",
    "        out = out.view(out.size(0), -1)\n",
    "        out = self.linear(out)\n",
    "        return out"
   ]
  },
  {
   "cell_type": "code",
   "execution_count": 4,
   "metadata": {},
   "outputs": [
    {
     "name": "stdout",
     "output_type": "stream",
     "text": [
      "torch.Size([1, 10])\n"
     ]
    }
   ],
   "source": [
    "## 验证下构型结构是否构造正确\n",
    "net = GoogLeNet()\n",
    "x = torch.randn(1, 3, 32, 32)\n",
    "y = net(x)\n",
    "print(y.size())"
   ]
  },
  {
   "cell_type": "markdown",
   "metadata": {},
   "source": [
    "借助PyTorch内置的nn.Sequential类构建模型。"
   ]
  },
  {
   "cell_type": "code",
   "execution_count": 5,
   "metadata": {
    "scrolled": true
   },
   "outputs": [
    {
     "name": "stdout",
     "output_type": "stream",
     "text": [
      "----------------------------------------------------------------\n",
      "        Layer (type)               Output Shape         Param #\n",
      "================================================================\n",
      "            Conv2d-1          [-1, 192, 32, 32]           5,376\n",
      "       BatchNorm2d-2          [-1, 192, 32, 32]             384\n",
      "              ReLU-3          [-1, 192, 32, 32]               0\n",
      "            Conv2d-4           [-1, 64, 32, 32]          12,352\n",
      "       BatchNorm2d-5           [-1, 64, 32, 32]             128\n",
      "              ReLU-6           [-1, 64, 32, 32]               0\n",
      "            Conv2d-7           [-1, 96, 32, 32]          18,528\n",
      "       BatchNorm2d-8           [-1, 96, 32, 32]             192\n",
      "              ReLU-9           [-1, 96, 32, 32]               0\n",
      "           Conv2d-10          [-1, 128, 32, 32]         110,720\n",
      "      BatchNorm2d-11          [-1, 128, 32, 32]             256\n",
      "             ReLU-12          [-1, 128, 32, 32]               0\n",
      "           Conv2d-13           [-1, 16, 32, 32]           3,088\n",
      "      BatchNorm2d-14           [-1, 16, 32, 32]              32\n",
      "             ReLU-15           [-1, 16, 32, 32]               0\n",
      "           Conv2d-16           [-1, 32, 32, 32]           4,640\n",
      "      BatchNorm2d-17           [-1, 32, 32, 32]              64\n",
      "             ReLU-18           [-1, 32, 32, 32]               0\n",
      "           Conv2d-19           [-1, 32, 32, 32]           9,248\n",
      "      BatchNorm2d-20           [-1, 32, 32, 32]              64\n",
      "             ReLU-21           [-1, 32, 32, 32]               0\n",
      "        MaxPool2d-22          [-1, 192, 32, 32]               0\n",
      "           Conv2d-23           [-1, 32, 32, 32]           6,176\n",
      "      BatchNorm2d-24           [-1, 32, 32, 32]              64\n",
      "             ReLU-25           [-1, 32, 32, 32]               0\n",
      "   Inception_cell-26          [-1, 256, 32, 32]               0\n",
      "           Conv2d-27          [-1, 128, 32, 32]          32,896\n",
      "      BatchNorm2d-28          [-1, 128, 32, 32]             256\n",
      "             ReLU-29          [-1, 128, 32, 32]               0\n",
      "           Conv2d-30          [-1, 128, 32, 32]          32,896\n",
      "      BatchNorm2d-31          [-1, 128, 32, 32]             256\n",
      "             ReLU-32          [-1, 128, 32, 32]               0\n",
      "           Conv2d-33          [-1, 192, 32, 32]         221,376\n",
      "      BatchNorm2d-34          [-1, 192, 32, 32]             384\n",
      "             ReLU-35          [-1, 192, 32, 32]               0\n",
      "           Conv2d-36           [-1, 32, 32, 32]           8,224\n",
      "      BatchNorm2d-37           [-1, 32, 32, 32]              64\n",
      "             ReLU-38           [-1, 32, 32, 32]               0\n",
      "           Conv2d-39           [-1, 96, 32, 32]          27,744\n",
      "      BatchNorm2d-40           [-1, 96, 32, 32]             192\n",
      "             ReLU-41           [-1, 96, 32, 32]               0\n",
      "           Conv2d-42           [-1, 96, 32, 32]          83,040\n",
      "      BatchNorm2d-43           [-1, 96, 32, 32]             192\n",
      "             ReLU-44           [-1, 96, 32, 32]               0\n",
      "        MaxPool2d-45          [-1, 256, 32, 32]               0\n",
      "           Conv2d-46           [-1, 64, 32, 32]          16,448\n",
      "      BatchNorm2d-47           [-1, 64, 32, 32]             128\n",
      "             ReLU-48           [-1, 64, 32, 32]               0\n",
      "   Inception_cell-49          [-1, 480, 32, 32]               0\n",
      "        MaxPool2d-50          [-1, 480, 16, 16]               0\n",
      "           Conv2d-51          [-1, 192, 16, 16]          92,352\n",
      "      BatchNorm2d-52          [-1, 192, 16, 16]             384\n",
      "             ReLU-53          [-1, 192, 16, 16]               0\n",
      "           Conv2d-54           [-1, 96, 16, 16]          46,176\n",
      "      BatchNorm2d-55           [-1, 96, 16, 16]             192\n",
      "             ReLU-56           [-1, 96, 16, 16]               0\n",
      "           Conv2d-57          [-1, 208, 16, 16]         179,920\n",
      "      BatchNorm2d-58          [-1, 208, 16, 16]             416\n",
      "             ReLU-59          [-1, 208, 16, 16]               0\n",
      "           Conv2d-60           [-1, 16, 16, 16]           7,696\n",
      "      BatchNorm2d-61           [-1, 16, 16, 16]              32\n",
      "             ReLU-62           [-1, 16, 16, 16]               0\n",
      "           Conv2d-63           [-1, 48, 16, 16]           6,960\n",
      "      BatchNorm2d-64           [-1, 48, 16, 16]              96\n",
      "             ReLU-65           [-1, 48, 16, 16]               0\n",
      "           Conv2d-66           [-1, 48, 16, 16]          20,784\n",
      "      BatchNorm2d-67           [-1, 48, 16, 16]              96\n",
      "             ReLU-68           [-1, 48, 16, 16]               0\n",
      "        MaxPool2d-69          [-1, 480, 16, 16]               0\n",
      "           Conv2d-70           [-1, 64, 16, 16]          30,784\n",
      "      BatchNorm2d-71           [-1, 64, 16, 16]             128\n",
      "             ReLU-72           [-1, 64, 16, 16]               0\n",
      "   Inception_cell-73          [-1, 512, 16, 16]               0\n",
      "           Conv2d-74          [-1, 160, 16, 16]          82,080\n",
      "      BatchNorm2d-75          [-1, 160, 16, 16]             320\n",
      "             ReLU-76          [-1, 160, 16, 16]               0\n",
      "           Conv2d-77          [-1, 112, 16, 16]          57,456\n",
      "      BatchNorm2d-78          [-1, 112, 16, 16]             224\n",
      "             ReLU-79          [-1, 112, 16, 16]               0\n",
      "           Conv2d-80          [-1, 224, 16, 16]         226,016\n",
      "      BatchNorm2d-81          [-1, 224, 16, 16]             448\n",
      "             ReLU-82          [-1, 224, 16, 16]               0\n",
      "           Conv2d-83           [-1, 24, 16, 16]          12,312\n",
      "      BatchNorm2d-84           [-1, 24, 16, 16]              48\n",
      "             ReLU-85           [-1, 24, 16, 16]               0\n",
      "           Conv2d-86           [-1, 64, 16, 16]          13,888\n",
      "      BatchNorm2d-87           [-1, 64, 16, 16]             128\n",
      "             ReLU-88           [-1, 64, 16, 16]               0\n",
      "           Conv2d-89           [-1, 64, 16, 16]          36,928\n",
      "      BatchNorm2d-90           [-1, 64, 16, 16]             128\n",
      "             ReLU-91           [-1, 64, 16, 16]               0\n",
      "        MaxPool2d-92          [-1, 512, 16, 16]               0\n",
      "           Conv2d-93           [-1, 64, 16, 16]          32,832\n",
      "      BatchNorm2d-94           [-1, 64, 16, 16]             128\n",
      "             ReLU-95           [-1, 64, 16, 16]               0\n",
      "   Inception_cell-96          [-1, 512, 16, 16]               0\n",
      "           Conv2d-97          [-1, 128, 16, 16]          65,664\n",
      "      BatchNorm2d-98          [-1, 128, 16, 16]             256\n",
      "             ReLU-99          [-1, 128, 16, 16]               0\n",
      "          Conv2d-100          [-1, 128, 16, 16]          65,664\n",
      "     BatchNorm2d-101          [-1, 128, 16, 16]             256\n",
      "            ReLU-102          [-1, 128, 16, 16]               0\n",
      "          Conv2d-103          [-1, 256, 16, 16]         295,168\n",
      "     BatchNorm2d-104          [-1, 256, 16, 16]             512\n",
      "            ReLU-105          [-1, 256, 16, 16]               0\n",
      "          Conv2d-106           [-1, 24, 16, 16]          12,312\n",
      "     BatchNorm2d-107           [-1, 24, 16, 16]              48\n",
      "            ReLU-108           [-1, 24, 16, 16]               0\n",
      "          Conv2d-109           [-1, 64, 16, 16]          13,888\n",
      "     BatchNorm2d-110           [-1, 64, 16, 16]             128\n",
      "            ReLU-111           [-1, 64, 16, 16]               0\n",
      "          Conv2d-112           [-1, 64, 16, 16]          36,928\n",
      "     BatchNorm2d-113           [-1, 64, 16, 16]             128\n",
      "            ReLU-114           [-1, 64, 16, 16]               0\n",
      "       MaxPool2d-115          [-1, 512, 16, 16]               0\n",
      "          Conv2d-116           [-1, 64, 16, 16]          32,832\n",
      "     BatchNorm2d-117           [-1, 64, 16, 16]             128\n",
      "            ReLU-118           [-1, 64, 16, 16]               0\n",
      "  Inception_cell-119          [-1, 512, 16, 16]               0\n",
      "          Conv2d-120          [-1, 112, 16, 16]          57,456\n",
      "     BatchNorm2d-121          [-1, 112, 16, 16]             224\n",
      "            ReLU-122          [-1, 112, 16, 16]               0\n",
      "          Conv2d-123          [-1, 144, 16, 16]          73,872\n",
      "     BatchNorm2d-124          [-1, 144, 16, 16]             288\n",
      "            ReLU-125          [-1, 144, 16, 16]               0\n",
      "          Conv2d-126          [-1, 288, 16, 16]         373,536\n",
      "     BatchNorm2d-127          [-1, 288, 16, 16]             576\n",
      "            ReLU-128          [-1, 288, 16, 16]               0\n",
      "          Conv2d-129           [-1, 32, 16, 16]          16,416\n",
      "     BatchNorm2d-130           [-1, 32, 16, 16]              64\n",
      "            ReLU-131           [-1, 32, 16, 16]               0\n",
      "          Conv2d-132           [-1, 64, 16, 16]          18,496\n",
      "     BatchNorm2d-133           [-1, 64, 16, 16]             128\n",
      "            ReLU-134           [-1, 64, 16, 16]               0\n",
      "          Conv2d-135           [-1, 64, 16, 16]          36,928\n",
      "     BatchNorm2d-136           [-1, 64, 16, 16]             128\n",
      "            ReLU-137           [-1, 64, 16, 16]               0\n",
      "       MaxPool2d-138          [-1, 512, 16, 16]               0\n",
      "          Conv2d-139           [-1, 64, 16, 16]          32,832\n",
      "     BatchNorm2d-140           [-1, 64, 16, 16]             128\n",
      "            ReLU-141           [-1, 64, 16, 16]               0\n",
      "  Inception_cell-142          [-1, 528, 16, 16]               0\n",
      "          Conv2d-143          [-1, 256, 16, 16]         135,424\n",
      "     BatchNorm2d-144          [-1, 256, 16, 16]             512\n",
      "            ReLU-145          [-1, 256, 16, 16]               0\n",
      "          Conv2d-146          [-1, 160, 16, 16]          84,640\n",
      "     BatchNorm2d-147          [-1, 160, 16, 16]             320\n",
      "            ReLU-148          [-1, 160, 16, 16]               0\n",
      "          Conv2d-149          [-1, 320, 16, 16]         461,120\n",
      "     BatchNorm2d-150          [-1, 320, 16, 16]             640\n",
      "            ReLU-151          [-1, 320, 16, 16]               0\n",
      "          Conv2d-152           [-1, 32, 16, 16]          16,928\n",
      "     BatchNorm2d-153           [-1, 32, 16, 16]              64\n",
      "            ReLU-154           [-1, 32, 16, 16]               0\n",
      "          Conv2d-155          [-1, 128, 16, 16]          36,992\n",
      "     BatchNorm2d-156          [-1, 128, 16, 16]             256\n",
      "            ReLU-157          [-1, 128, 16, 16]               0\n",
      "          Conv2d-158          [-1, 128, 16, 16]         147,584\n",
      "     BatchNorm2d-159          [-1, 128, 16, 16]             256\n",
      "            ReLU-160          [-1, 128, 16, 16]               0\n",
      "       MaxPool2d-161          [-1, 528, 16, 16]               0\n",
      "          Conv2d-162          [-1, 128, 16, 16]          67,712\n",
      "     BatchNorm2d-163          [-1, 128, 16, 16]             256\n",
      "            ReLU-164          [-1, 128, 16, 16]               0\n",
      "  Inception_cell-165          [-1, 832, 16, 16]               0\n",
      "       MaxPool2d-166            [-1, 832, 8, 8]               0\n",
      "          Conv2d-167            [-1, 256, 8, 8]         213,248\n",
      "     BatchNorm2d-168            [-1, 256, 8, 8]             512\n",
      "            ReLU-169            [-1, 256, 8, 8]               0\n",
      "          Conv2d-170            [-1, 160, 8, 8]         133,280\n",
      "     BatchNorm2d-171            [-1, 160, 8, 8]             320\n",
      "            ReLU-172            [-1, 160, 8, 8]               0\n",
      "          Conv2d-173            [-1, 320, 8, 8]         461,120\n",
      "     BatchNorm2d-174            [-1, 320, 8, 8]             640\n",
      "            ReLU-175            [-1, 320, 8, 8]               0\n",
      "          Conv2d-176             [-1, 32, 8, 8]          26,656\n",
      "     BatchNorm2d-177             [-1, 32, 8, 8]              64\n",
      "            ReLU-178             [-1, 32, 8, 8]               0\n",
      "          Conv2d-179            [-1, 128, 8, 8]          36,992\n",
      "     BatchNorm2d-180            [-1, 128, 8, 8]             256\n",
      "            ReLU-181            [-1, 128, 8, 8]               0\n",
      "          Conv2d-182            [-1, 128, 8, 8]         147,584\n",
      "     BatchNorm2d-183            [-1, 128, 8, 8]             256\n",
      "            ReLU-184            [-1, 128, 8, 8]               0\n",
      "       MaxPool2d-185            [-1, 832, 8, 8]               0\n",
      "          Conv2d-186            [-1, 128, 8, 8]         106,624\n",
      "     BatchNorm2d-187            [-1, 128, 8, 8]             256\n",
      "            ReLU-188            [-1, 128, 8, 8]               0\n",
      "  Inception_cell-189            [-1, 832, 8, 8]               0\n",
      "          Conv2d-190            [-1, 384, 8, 8]         319,872\n",
      "     BatchNorm2d-191            [-1, 384, 8, 8]             768\n",
      "            ReLU-192            [-1, 384, 8, 8]               0\n",
      "          Conv2d-193            [-1, 192, 8, 8]         159,936\n",
      "     BatchNorm2d-194            [-1, 192, 8, 8]             384\n",
      "            ReLU-195            [-1, 192, 8, 8]               0\n",
      "          Conv2d-196            [-1, 384, 8, 8]         663,936\n",
      "     BatchNorm2d-197            [-1, 384, 8, 8]             768\n",
      "            ReLU-198            [-1, 384, 8, 8]               0\n",
      "          Conv2d-199             [-1, 48, 8, 8]          39,984\n",
      "     BatchNorm2d-200             [-1, 48, 8, 8]              96\n",
      "            ReLU-201             [-1, 48, 8, 8]               0\n",
      "          Conv2d-202            [-1, 128, 8, 8]          55,424\n",
      "     BatchNorm2d-203            [-1, 128, 8, 8]             256\n",
      "            ReLU-204            [-1, 128, 8, 8]               0\n",
      "          Conv2d-205            [-1, 128, 8, 8]         147,584\n",
      "     BatchNorm2d-206            [-1, 128, 8, 8]             256\n",
      "            ReLU-207            [-1, 128, 8, 8]               0\n",
      "       MaxPool2d-208            [-1, 832, 8, 8]               0\n",
      "          Conv2d-209            [-1, 128, 8, 8]         106,624\n",
      "     BatchNorm2d-210            [-1, 128, 8, 8]             256\n",
      "            ReLU-211            [-1, 128, 8, 8]               0\n",
      "  Inception_cell-212           [-1, 1024, 8, 8]               0\n",
      "       AvgPool2d-213           [-1, 1024, 1, 1]               0\n",
      "          Linear-214                   [-1, 10]          10,250\n",
      "================================================================\n",
      "Total params: 6,166,250\n",
      "Trainable params: 6,166,250\n",
      "Non-trainable params: 0\n",
      "----------------------------------------------------------------\n",
      "Input size (MB): 0.01\n",
      "Forward/backward pass size (MB): 81.42\n",
      "Params size (MB): 23.52\n",
      "Estimated Total Size (MB): 104.96\n",
      "----------------------------------------------------------------\n"
     ]
    }
   ],
   "source": [
    "from torchsummary import summary\n",
    "## 需要预先下载，在终端输入 pip install torchsummary\n",
    "IMSIZE = 32\n",
    "inceptionv1_model = GoogLeNet().cuda()\n",
    "summary(inceptionv1_model, (3, IMSIZE, IMSIZE))"
   ]
  },
  {
   "cell_type": "markdown",
   "metadata": {},
   "source": [
    "## 模型训练"
   ]
  },
  {
   "cell_type": "markdown",
   "metadata": {},
   "source": [
    "先定义几个训练中会用到的函数。"
   ]
  },
  {
   "cell_type": "markdown",
   "metadata": {},
   "source": [
    "输入参数epochs和lr，实施训练。"
   ]
  },
  {
   "cell_type": "code",
   "execution_count": 6,
   "metadata": {},
   "outputs": [
    {
     "name": "stdout",
     "output_type": "stream",
     "text": [
      "Epoch [1/1], time: 177.90s, loss: 1.1286, acc: 0.5946, val_loss: 0.8535, val_acc: 0.7035\n"
     ]
    }
   ],
   "source": [
    "lr = 1e-4\n",
    "optimizer = torch.optim.Adam(inceptionv1_model.parameters(), lr=lr)  # 设置优化器\n",
    "epochs = 1\n",
    "train_loader, val_loader = get_cifar10(batch_size=32)\n",
    "history = train(inceptionv1_model, optimizer, train_loader, val_loader, epochs=epochs)  # 实施训练"
   ]
  },
  {
   "cell_type": "markdown",
   "metadata": {},
   "source": [
    "## 模型预测"
   ]
  },
  {
   "cell_type": "markdown",
   "metadata": {},
   "source": [
    "从训练集中选取几张图片，使用模型做出预测，观察结果。"
   ]
  },
  {
   "cell_type": "code",
   "execution_count": 7,
   "metadata": {},
   "outputs": [],
   "source": [
    "testiter = iter(val_loader)"
   ]
  },
  {
   "cell_type": "markdown",
   "metadata": {},
   "source": [
    "每次对迭代器testiter执行next，就会取出其下一个元素。因此，多次运行以下代码块，即可测试不同的图片。"
   ]
  },
  {
   "cell_type": "code",
   "execution_count": 7,
   "metadata": {},
   "outputs": [
    {
     "ename": "NameError",
     "evalue": "name 'testiter' is not defined",
     "output_type": "error",
     "traceback": [
      "\u001b[0;31m---------------------------------------------------------------------------\u001b[0m",
      "\u001b[0;31mNameError\u001b[0m                                 Traceback (most recent call last)",
      "\u001b[0;32m<ipython-input-7-20f718feb296>\u001b[0m in \u001b[0;36m<module>\u001b[0;34m\u001b[0m\n\u001b[1;32m      1\u001b[0m \u001b[0;32mfrom\u001b[0m \u001b[0mmatplotlib\u001b[0m \u001b[0;32mimport\u001b[0m \u001b[0mpyplot\u001b[0m \u001b[0;32mas\u001b[0m \u001b[0mplt\u001b[0m\u001b[0;34m\u001b[0m\u001b[0;34m\u001b[0m\u001b[0m\n\u001b[0;32m----> 2\u001b[0;31m \u001b[0mimage\u001b[0m \u001b[0;34m=\u001b[0m \u001b[0mnext\u001b[0m\u001b[0;34m(\u001b[0m\u001b[0mtestiter\u001b[0m\u001b[0;34m)\u001b[0m\u001b[0;34m[\u001b[0m\u001b[0;36m0\u001b[0m\u001b[0;34m]\u001b[0m\u001b[0;34m[\u001b[0m\u001b[0;36m0\u001b[0m\u001b[0;34m]\u001b[0m\u001b[0;34m\u001b[0m\u001b[0;34m\u001b[0m\u001b[0m\n\u001b[0m\u001b[1;32m      3\u001b[0m \u001b[0mplt\u001b[0m\u001b[0;34m.\u001b[0m\u001b[0maxis\u001b[0m\u001b[0;34m(\u001b[0m\u001b[0;34m'off'\u001b[0m\u001b[0;34m)\u001b[0m\u001b[0;34m\u001b[0m\u001b[0;34m\u001b[0m\u001b[0m\n\u001b[1;32m      4\u001b[0m \u001b[0mplt\u001b[0m\u001b[0;34m.\u001b[0m\u001b[0mimshow\u001b[0m\u001b[0;34m(\u001b[0m\u001b[0mimage\u001b[0m\u001b[0;34m.\u001b[0m\u001b[0mpermute\u001b[0m\u001b[0;34m(\u001b[0m\u001b[0;34m(\u001b[0m\u001b[0;36m1\u001b[0m\u001b[0;34m,\u001b[0m \u001b[0;36m2\u001b[0m\u001b[0;34m,\u001b[0m \u001b[0;36m0\u001b[0m\u001b[0;34m)\u001b[0m\u001b[0;34m)\u001b[0m\u001b[0;34m)\u001b[0m\u001b[0;34m\u001b[0m\u001b[0;34m\u001b[0m\u001b[0m\n\u001b[1;32m      5\u001b[0m \u001b[0mplt\u001b[0m\u001b[0;34m.\u001b[0m\u001b[0mshow\u001b[0m\u001b[0;34m(\u001b[0m\u001b[0;34m)\u001b[0m\u001b[0;34m\u001b[0m\u001b[0;34m\u001b[0m\u001b[0m\n",
      "\u001b[0;31mNameError\u001b[0m: name 'testiter' is not defined"
     ]
    }
   ],
   "source": [
    "from matplotlib import pyplot as plt\n",
    "image = next(testiter)[0][0]\n",
    "plt.axis('off')\n",
    "plt.imshow(image.permute((1, 2, 0)))\n",
    "plt.show()\n",
    "\n",
    "pred = predict(inceptionv1_model, image.unsqueeze(dim=0))  # 由于模型接受的输入shape为4维（第1维为batch_size），因此需要使用unsqueeze函数在图片前面加一维\n",
    "val_set = torchvision.datasets.CIFAR10(root='../dataset',train=False)\n",
    "print('Prediction:', val_set.classes[pred])"
   ]
  },
  {
   "cell_type": "code",
   "execution_count": null,
   "metadata": {},
   "outputs": [],
   "source": []
  }
 ],
 "metadata": {
  "kernelspec": {
   "display_name": "Python 3",
   "language": "python",
   "name": "python3"
  },
  "language_info": {
   "codemirror_mode": {
    "name": "ipython",
    "version": 3
   },
   "file_extension": ".py",
   "mimetype": "text/x-python",
   "name": "python",
   "nbconvert_exporter": "python",
   "pygments_lexer": "ipython3",
   "version": "3.6.9"
  }
 },
 "nbformat": 4,
 "nbformat_minor": 4
}
